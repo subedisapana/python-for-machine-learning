{
 "cells": [
  {
   "cell_type": "markdown",
   "id": "3995f22c",
   "metadata": {},
   "source": [
    "### Machine learning with Python"
   ]
  },
  {
   "cell_type": "markdown",
   "id": "4cbf3e9b",
   "metadata": {},
   "source": [
    "There are many different python packages, one of them we use here is Scikit-Learn(sklearn) Package.\n",
    "It is the most popular machine learning package for python and has a lot of tools and algorithms builtin for machine learning tasks, such as classification, regression, clustering, dimensionality reduction and more.\n",
    "\n",
    "It is built on top of other python libraries, such as Numpy and Scipy, and integrates well with the scientific python ecosystem.\n",
    "\n",
    "- Scikit learn provides a straightforward and consistent API, making it easy to use and learn.\n",
    "- Includes an extensive selection of algorithms such as support vector machine (SVM), random forests, Knearest neighbors, decision trees, gradient boosting, logistic regression and more.\n",
    "- It offers tools for data processing: data scaling, feature extraction and handling missing values\n",
    "- Provides tools for model evaluation, various classification and regression, clustering metrics.\n",
    "\n",
    "> pip install scikit-learn\n",
    "or\n",
    "> conda install scikit-learn\n"
   ]
  },
  {
   "cell_type": "markdown",
   "id": "f960b7c0",
   "metadata": {},
   "source": [
    "#### ML Process\n",
    "                          \n",
    "Data Acquisition --> Data Cleaning -->  Model Training and Building --> Model Testing --> Model Deployment\n",
    "\n",
    "- Data cleaning --> Model training and test data\n",
    "- Model testing --> model training and model deployment"
   ]
  },
  {
   "cell_type": "markdown",
   "id": "f94284a2",
   "metadata": {},
   "source": [
    "Scikit -learn\n",
    "\n",
    "In __scikit-learn__, every machine learning algorithm is exposed through the concept of __\"estimators.\"__ \n",
    "This means that each algorithm, whether it's for classification, regression, clustering, or any other task, is represented by a class that follows a common interface and set of methods.\n",
    "\n",
    "1. Import model,\n",
    "from sklearn.linear_model import LinearRegression\n",
    "\n",
    "linear_model is a family of models; LinearRegression is model itself/estimator"
   ]
  },
  {
   "cell_type": "code",
   "execution_count": 1,
   "id": "627b35b6",
   "metadata": {},
   "outputs": [],
   "source": [
    "from sklearn.linear_model import LinearRegression"
   ]
  },
  {
   "cell_type": "code",
   "execution_count": 3,
   "id": "29ef458c",
   "metadata": {},
   "outputs": [
    {
     "name": "stdout",
     "output_type": "stream",
     "text": [
      "LinearRegression(normalize=True)\n"
     ]
    }
   ],
   "source": [
    "model = LinearRegression(normalize = True)\n",
    "print(model)"
   ]
  },
  {
   "cell_type": "code",
   "execution_count": 6,
   "id": "ea6f3c9c",
   "metadata": {},
   "outputs": [
    {
     "name": "stdout",
     "output_type": "stream",
     "text": [
      "LinearRegression(normalize=True)\n"
     ]
    }
   ],
   "source": [
    "model = LinearRegression(copy_X = True, fit_intercept = True, normalize = True)\n",
    "print(model)\n"
   ]
  },
  {
   "cell_type": "markdown",
   "id": "3fcdef49",
   "metadata": {},
   "source": [
    "__Once you create your model with parameters, you need to fit your model on some data. But, we should split data into training and test dataset.__\n",
    "Example of how we can do that:"
   ]
  },
  {
   "cell_type": "code",
   "execution_count": 8,
   "id": "d2c57c7c",
   "metadata": {},
   "outputs": [
    {
     "data": {
      "text/plain": [
       "array([[0, 1],\n",
       "       [2, 3],\n",
       "       [4, 5],\n",
       "       [6, 7],\n",
       "       [8, 9]])"
      ]
     },
     "execution_count": 8,
     "metadata": {},
     "output_type": "execute_result"
    }
   ],
   "source": [
    "import numpy as np\n",
    "from sklearn.model_selection import train_test_split\n",
    "\n",
    "X, y = np.arange(10).reshape((5,2)), range(5)\n",
    "X\n"
   ]
  },
  {
   "cell_type": "code",
   "execution_count": 9,
   "id": "dbd457d9",
   "metadata": {},
   "outputs": [
    {
     "data": {
      "text/plain": [
       "[0, 1, 2, 3, 4]"
      ]
     },
     "execution_count": 9,
     "metadata": {},
     "output_type": "execute_result"
    }
   ],
   "source": [
    "list(y)"
   ]
  },
  {
   "cell_type": "code",
   "execution_count": 10,
   "id": "4763767c",
   "metadata": {},
   "outputs": [
    {
     "data": {
      "text/plain": [
       "array([[4, 5],\n",
       "       [8, 9],\n",
       "       [6, 7]])"
      ]
     },
     "execution_count": 10,
     "metadata": {},
     "output_type": "execute_result"
    }
   ],
   "source": [
    "X_train, X_test, y_train, y_test = train_test_split(X, y, test_size= 0.3)\n",
    "\n",
    "X_train"
   ]
  },
  {
   "cell_type": "code",
   "execution_count": 11,
   "id": "bfb0c6a0",
   "metadata": {},
   "outputs": [
    {
     "data": {
      "text/plain": [
       "[2, 4, 3]"
      ]
     },
     "execution_count": 11,
     "metadata": {},
     "output_type": "execute_result"
    }
   ],
   "source": [
    "y_train"
   ]
  },
  {
   "cell_type": "code",
   "execution_count": 13,
   "id": "a59720e6",
   "metadata": {},
   "outputs": [
    {
     "data": {
      "text/plain": [
       "array([[0, 1],\n",
       "       [2, 3]])"
      ]
     },
     "execution_count": 13,
     "metadata": {},
     "output_type": "execute_result"
    }
   ],
   "source": [
    "X_test"
   ]
  },
  {
   "cell_type": "code",
   "execution_count": 14,
   "id": "0a16c511",
   "metadata": {},
   "outputs": [
    {
     "data": {
      "text/plain": [
       "[0, 1]"
      ]
     },
     "execution_count": 14,
     "metadata": {},
     "output_type": "execute_result"
    }
   ],
   "source": [
    "y_test"
   ]
  },
  {
   "cell_type": "markdown",
   "id": "76f76ed6",
   "metadata": {},
   "source": [
    "Now we have split the data, we can train/fit our model on the training data.\n",
    "This is done using the model.fit()method\n",
    "\n",
    "> model.fit(X_train, y_train)"
   ]
  },
  {
   "cell_type": "markdown",
   "id": "cc33c8cf",
   "metadata": {},
   "source": [
    "Now the model has been fit and trained on training data, the model is ready to predict lables or values on the test set.\n",
    "\n",
    "> predictions = model.predict(X_test)\n",
    "\n",
    "Trained model is going to predict new set of data."
   ]
  },
  {
   "cell_type": "markdown",
   "id": "646f89e8",
   "metadata": {},
   "source": [
    "After model is ready to predict lables, we evalute our model by comparing our predictions to correct values. Evaluation method depends on what sorts of Aalgorithm we are using (eg: regression, clustering, classification)\n"
   ]
  },
  {
   "cell_type": "markdown",
   "id": "47a148cd",
   "metadata": {},
   "source": [
    "__Some available methods in estimator:__"
   ]
  },
  {
   "cell_type": "markdown",
   "id": "7ba67f73",
   "metadata": {},
   "source": [
    "1. model.predict_proba() : \n",
    "    - used for classification problems.\n",
    "    - returns the probability that a new observation has each categorical label.\n",
    "    - return the label with the highest probabilities. (model.predict())\n",
    "\n",
    "2. model.score():\n",
    "    - for classification and regression problems.\n",
    "    - scores ranges from 0 to 1.\n",
    "    - larger the score, better the fit.\n",
    "    \n",
    "3. model.predict():\n",
    "    - In unsupervised model\n",
    "    - predict labels in clustering algorithm.\n",
    "    \n",
    "4. model.transform():\n",
    "    - In unsupervised model\n",
    "    - transform new data into new basis\n",
    "    - it also accepts one argument X_new and returns the new representation of the data based on unsupervised model.\n",
    "    \n",
    "5. model.fit_transform():\n",
    "   - In unsupervised model.\n",
    "   - more efficient.\n",
    "   - performs a fit and transform on the same i/p data.\n"
   ]
  }
 ],
 "metadata": {
  "kernelspec": {
   "display_name": "Python 3 (ipykernel)",
   "language": "python",
   "name": "python3"
  },
  "language_info": {
   "codemirror_mode": {
    "name": "ipython",
    "version": 3
   },
   "file_extension": ".py",
   "mimetype": "text/x-python",
   "name": "python",
   "nbconvert_exporter": "python",
   "pygments_lexer": "ipython3",
   "version": "3.9.7"
  }
 },
 "nbformat": 4,
 "nbformat_minor": 5
}
