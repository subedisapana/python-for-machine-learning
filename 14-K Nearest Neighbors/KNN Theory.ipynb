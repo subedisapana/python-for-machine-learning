{
 "cells": [
  {
   "cell_type": "markdown",
   "id": "b8c7fbb0",
   "metadata": {},
   "source": [
    "### KNN (K-Nearest Neighbors)\n",
    "Supervised learning classification algorithm that operates in simple principle and used to solve both classification and regression problems.\n",
    "KNN decides based on the nearest neighbors."
   ]
  },
  {
   "cell_type": "markdown",
   "id": "3d0c6717",
   "metadata": {},
   "source": [
    "#### Training Algorithm:\n",
    "1. Store all the data.\n",
    "    \n",
    "#### Prediction Algorithm:\n",
    "1. Calculate the distance from  x(new data points) to all the points in your data.\n",
    "2. Sort the points in your data by increasing distance from x\n",
    "3. Predict the majority label of the \"K\" closest points. K being a number of nearest neighbors.\n",
    "4. Select the majority of nearest neighbors.\n",
    "Here K will affect what class a new point is assigned to."
   ]
  },
  {
   "cell_type": "code",
   "execution_count": 4,
   "id": "d799d6c2",
   "metadata": {},
   "outputs": [],
   "source": [
    "from PIL import Image\n",
    "from IPython.display import display"
   ]
  },
  {
   "cell_type": "code",
   "execution_count": 6,
   "id": "ee3edf7d",
   "metadata": {},
   "outputs": [
    {
     "data": {
      "image/png": "[encoded data removed]",
      "text/plain": [
       "<PIL.PngImagePlugin.PngImageFile image mode=RGBA size=276x131 at 0x19FFDBE3D30>"
      ]
     },
     "metadata": {},
     "output_type": "display_data"
    }
   ],
   "source": [
    "knn_example = Image.open(\"KNN-Example.png\")\n",
    "display(knn_example)"
   ]
  },
  {
   "cell_type": "markdown",
   "id": "cbde6bec",
   "metadata": {},
   "source": [
    "Predict the genre of a movie \"Barbie\" with rating 7.4 and duration 114."
   ]
  },
  {
   "cell_type": "markdown",
   "id": "86dd978d",
   "metadata": {},
   "source": [
    "1. Calculate the distance between barbie (7.4, 114) to all other points using euclidean distance formula. \n",
    "d = \\sqrt{(x_2 - x_1)^2 + (y_2-y_1)^2\n",
    "__with mission impossible movie we get 46 & respectively 56,54,41.__\n",
    "\n",
    "2. According to the value of k, we select the nearest distance point. Here in this case, OMG2, Mission impossible and R & R are considered when k=3. The genre of movies are Comedy, Action, and Comedy.\n",
    "3. In this situation we select one with majority vote that is Comedy.\n"
   ]
  },
  {
   "cell_type": "markdown",
   "id": "c13c9351",
   "metadata": {},
   "source": [
    "Pros:\n",
    "    very simple, training is trivial, works with any number of classes, easy to add data, and has few parameters ( K and distance metric)."
   ]
  },
  {
   "cell_type": "markdown",
   "id": "b0fbe087",
   "metadata": {},
   "source": [
    "Cons: \n",
    "    high prediction cost,not suitable for large sets of data, not good with high dimentional data, and categorical features don't work well.\n",
    "    "
   ]
  }
 ],
 "metadata": {
  "kernelspec": {
   "display_name": "Python 3 (ipykernel)",
   "language": "python",
   "name": "python3"
  },
  "language_info": {
   "codemirror_mode": {
    "name": "ipython",
    "version": 3
   },
   "file_extension": ".py",
   "mimetype": "text/x-python",
   "name": "python",
   "nbconvert_exporter": "python",
   "pygments_lexer": "ipython3",
   "version": "3.9.7"
  }
 },
 "nbformat": 4,
 "nbformat_minor": 5
}
