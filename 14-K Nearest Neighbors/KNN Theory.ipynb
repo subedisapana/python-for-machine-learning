{
 "cells": [
  {
   "cell_type": "markdown",
   "id": "6ae49586",
   "metadata": {},
   "source": [
    "KNN - Classification algorithm that operates in simple principle.\n",
    "\n",
    "Dogs and Horse and their height and weights. via height and wight determine whether it is horse or dog."
   ]
  },
  {
   "cell_type": "markdown",
   "id": "3d1b33bf",
   "metadata": {},
   "source": [
    "Training Algorithm:\n",
    "    1. Store all the data.\n",
    "    \n",
    "Prediction Algorithm:\n",
    "1. Calculate the distance from  x to all the points in your data\n",
    "2. sort the points in your data by increasing distance"
   ]
  },
  {
   "cell_type": "code",
   "execution_count": null,
   "id": "e3dfce36",
   "metadata": {},
   "outputs": [],
   "source": []
  }
 ],
 "metadata": {
  "kernelspec": {
   "display_name": "Python 3 (ipykernel)",
   "language": "python",
   "name": "python3"
  },
  "language_info": {
   "codemirror_mode": {
    "name": "ipython",
    "version": 3
   },
   "file_extension": ".py",
   "mimetype": "text/x-python",
   "name": "python",
   "nbconvert_exporter": "python",
   "pygments_lexer": "ipython3",
   "version": "3.9.7"
  }
 },
 "nbformat": 4,
 "nbformat_minor": 5
}
